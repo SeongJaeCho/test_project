{
 "cells": [
  {
   "cell_type": "code",
   "execution_count": 1,
   "id": "6eee0a8b",
   "metadata": {},
   "outputs": [],
   "source": [
    "def trapping_rain(buildings):\n",
    "    # 총 담기는 빗물의 양을 변수에 저장\n",
    "    total_height = 0\n",
    "\n",
    "    # 리스트의 각 인덱스을 돌면서 해당 칸에 담기는 빗물의 양을 구한다\n",
    "    # 0번 인덱스와 마지막 인덱스는 볼 필요 없다\n",
    "    for i in range(1, len(buildings) - 1):\n",
    "        # 현재 인덱스를 기준으로 양쪽에 가장 높은 건물의 위치를 구한다\n",
    "        max_left = max(buildings[:i])\n",
    "        max_right = max(buildings[i:])\n",
    "\n",
    "        # 현재 인덱스에 빗물이 담길 수 있는 높이\n",
    "        upper_bound = min(max_left, max_right)\n",
    "\n",
    "        # 현재 인덱스에 담기는 빗물의 양을 계산\n",
    "        # 만약 upper_bound가 현재 인덱스 건물보다 높지 않다면, 현재 인덱스에 담기는 빗물은 0\n",
    "        total_height += max(0, upper_bound - buildings[i])\n",
    "\n",
    "    return total_height"
   ]
  },
  {
   "cell_type": "code",
   "execution_count": 5,
   "id": "577e27f7",
   "metadata": {},
   "outputs": [
    {
     "name": "stdout",
     "output_type": "stream",
     "text": [
      "10\n",
      "6\n",
      "6\n"
     ]
    }
   ],
   "source": [
    "print(trapping_rain([3, 0, 0, 2, 0, 4]))\n",
    "print(trapping_rain([0, 1, 0, 2, 1, 0, 1, 3, 2, 1, 2, 1]))\n",
    "print(trapping_rain([0, 3, 1, 1, 1, 3, 4, 9]))"
   ]
  },
  {
   "cell_type": "code",
   "execution_count": null,
   "id": "65f5df6c",
   "metadata": {},
   "outputs": [],
   "source": []
  }
 ],
 "metadata": {
  "kernelspec": {
   "display_name": "Python 3 (ipykernel)",
   "language": "python",
   "name": "python3"
  },
  "language_info": {
   "codemirror_mode": {
    "name": "ipython",
    "version": 3
   },
   "file_extension": ".py",
   "mimetype": "text/x-python",
   "name": "python",
   "nbconvert_exporter": "python",
   "pygments_lexer": "ipython3",
   "version": "3.11.5"
  }
 },
 "nbformat": 4,
 "nbformat_minor": 5
}
